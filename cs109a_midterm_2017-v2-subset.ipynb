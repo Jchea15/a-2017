{
 "cells": [
  {
   "cell_type": "markdown",
   "metadata": {},
   "source": [
    "# CS 109A/STAT 121A/AC 209A/CSCI E-109A: \n",
    "# Midterm - 2017\n",
    "\n",
    "**Harvard University**<br/>\n",
    "**Fall 2017**<br/>\n",
    "**Instructors**: Pavlos Protopapas, Kevin Rader, Rahul Dave, Margo Levine\n",
    "\n",
    "---\n",
    "\n",
    "### INSTRUCTIONS\n",
    "\n",
    "\n",
    "- You must submit the Midterm on your own. ** No group submissions are allowed**. You may use any print or online resources but ** you may not work or consult with others**.\n",
    "- Restart the kernel and run the whole notebook again before you submit. \n",
    "- Please submit both a notebook and a pdf.\n",
    " \n",
    "\n",
    "---"
   ]
  },
  {
   "cell_type": "markdown",
   "metadata": {},
   "source": [
    "\n",
    "## Flight Delays\n",
    "\n",
    "The U.S. Department of Transportation's (DOT) Bureau of Transportation Statistics tracks the on-time performance of domestic flights operated by large air carriers. Summary information on the number of on-time, delayed, canceled, and diverted flights are published in DOT's monthly Air Travel Consumer Report and in this dataset of 2015 flight delays and cancellations.\n",
    "\n",
    "\n",
    "## Data\n",
    "Each entry of the flights.csv file corresponds to a flight.  More than 5,800,000 flights were recorded in 2015. These flights are described according to 31 variables. Further details of these variables can be found <a href='https://www.transtats.bts.gov/DL_SelectFields.asp?Table_ID=236&DB_Short_Name=On-Time'>here</a>, if you are interested (not needed to answer these questions). \n",
    "\n",
    "\n",
    " \n",
    "\n",
    "|          Name          | Type | DESCRIPTION |\n",
    "|--------------------------------|---|----------------------------------------------------------------------|\n",
    "| DATE                     | object | The date in python datetime format |\n",
    "| MONTH                     | int64 | The month of the year(1-12) |\n",
    "| DAY                       | int64 | The day of the month |\n",
    "| DAY_OF_WEEK               | int64 | The day of the week(1-7, MON-SUN) |\n",
    "| AIRLINE                  | object | An identifier for the airline |\n",
    "| FLIGHT_NUMBER             | int64 | The flight number |\n",
    "| TAIL_NUMBER              | object | The tail number (aircraft) corresponding to this flight |\n",
    "| ORIGIN_AIRPORT           | object | The code for origin airport |\n",
    "| DESTINATION_AIRPORT      | object | The code for destination airport |\n",
    "| SCHED_DEP                | object | The departure time in python datetime.time format |\n",
    "| SCHED_ARR                | object | The arrival time in python datetime.time format |\n",
    "| DEPARTURE_DELAY         |  float64| The delay incurred at the origin  (mins) |\n",
    "| ARRIVAL_DELAY           | float64 | The delay when the flight reached the (mins) destination |\n",
    "| DISTANCE                  | int64 | Distance in miles between origin and destination |\n",
    "| SCHEDULED_TIME          | float64 | Scheduled time of flight (minutes) |\n",
    "| ELAPSED_TIME            | float64 | Actual time of flight (minutes) |\n",
    "| AIR_SYSTEM_DELAY        | float64 | What part of the delay was NASD?(mins) |\n",
    "| SECURITY_DELAY          | float64 | What part of the delay was due to security problems? (mins) |\n",
    "| AIRLINE_DELAY           | float64 | What part of the delay is due to the airline? (mins) |\n",
    "| LATE_AIRCRAFT_DELAY     | float64 | What part of the delay is due to previous flight(s) being late(mins) |\n",
    "| WEATHER_DELAY           | float64 | Delay due to extreme weather events(min) |\n",
    "\n",
    "You can read more about the various weather delays [here](https://www.rita.dot.gov/bts/help/aviation/html/understanding.html) if you are so inclined.\n",
    "\n",
    "\n",
    "\n",
    "## Data/Caveats\n",
    "\n",
    "The data file, flights.csv, is found <a href=\"https://drive.google.com/file/d/0B9dVesTppCgHY0IwZHk3SGhjd00/view?usp=sharing\">here</a> (note, it is about 70MB). \n",
    "\n",
    "This data is already preprocessed, reduced, partially cleaned and therefore not identical to the original dataset."
   ]
  },
  {
   "cell_type": "markdown",
   "metadata": {},
   "source": [
    "## Problem Description"
   ]
  },
  {
   "cell_type": "markdown",
   "metadata": {},
   "source": [
    "We will build two separate models: one model that classifies whether a flight will be delayed and a second model that predicts the length of delay given that a flight is truly delayed. Only consider models taught in class so far. \n",
    "\n",
    "** Consider the following: **\n",
    "This is a large dataset; think of strategies on how to solve this problem. Create a manageable subsample of the data that you can use to train and test/validate, but eventually you should predict on all the data (excluding the training set).\n",
    "\n",
    "### Questions\n",
    "1. (5pts) Create a new variable, `DELAY_OR_NOT`: a boolean/indicator variable which indicates any arrival delay under 15 mins as a 0, and any delay at or above 15 mins as a 1 (`ARRIVAL_DELAY >= 15`).\n",
    "2. (5pts) Make sure you understand the data variable descriptions before you start the analysis. Consider all the columns and determine and list which of these predictors should not be used. \n",
    "3. (15pts) Perform EDA to gain intuition of the factors that affect delay and provide visuals: do delays vary across airlines, or time of departure, or airport (do, at the very least, Chicago (ORD), Boston (BOS), and your favorite another airport), or airport traffic?\n",
    "4. (20pts) Build a classification model that classifies delays according to `DELAY_OR_NOT`. This is an unbalanced dataset, thus consider the appropriate performance metric when reporting your results. \n",
    "5. (5pts) Given your model, comment on the importance of factors as related to whether a flight is delayed.\n",
    "6. (5pts) Evaluate your model(s) on your test set, and finally provide a visual to show which airlines are predicted to have the most delays using all the data excluding the training and test set. \n",
    "7. (15pts) Build a regression model that predicts the length of delay (on the log scale) given that a flight is truly delayed.\n",
    "8. (20pts) Write a report (in the last markdown cell in your notebook with your findings (without code)). Describe the main design decisions you have made with justifications. Clearly explain your methodology and results. This should not be more than 300 words. You may use up to 5 diagrams."
   ]
  },
  {
   "cell_type": "markdown",
   "metadata": {},
   "source": [
    "## Deliverable: \n",
    "A well presented notebook with well structured and documented code to answer questions 1-7 (plus additional questions for 209 students) with brief explanations and/or clarifications (10pts for overall presentation). The last cell should contain the report for question 8.\n",
    "\n",
    "\n",
    "\n",
    "## Hints\n",
    "1. For the classification model, an AUC of approximately 0.6 should be your base model. \n",
    "2. $R^2>0.03$ for the regression is good, $R^2>0.05$ very good, and $R^2>0.1$ is impressive (measured on the log scale). "
   ]
  },
  {
   "cell_type": "code",
   "execution_count": 1,
   "metadata": {
    "collapsed": true
   },
   "outputs": [],
   "source": [
    "%matplotlib inline\n",
    "import numpy as np\n",
    "import pandas as pd\n",
    "import matplotlib\n",
    "import matplotlib.pyplot as plt\n",
    "import seaborn as sns\n",
    "import math as math\n",
    "from sklearn.linear_model import LogisticRegression\n",
    "from sklearn.linear_model import LogisticRegressionCV\n",
    "import sklearn.metrics as metrics\n",
    "from sklearn.preprocessing import PolynomialFeatures\n",
    "from sklearn.discriminant_analysis import LinearDiscriminantAnalysis\n",
    "from sklearn.discriminant_analysis import QuadraticDiscriminantAnalysis\n",
    "from sklearn.neighbors import KNeighborsClassifier as KNN\n",
    "from sklearn.tree import DecisionTreeClassifier\n",
    "from sklearn.tree import export_graphviz\n",
    "from sklearn.model_selection import cross_val_score\n",
    "from sklearn.tree import export_graphviz\n",
    "from IPython.display import Image\n",
    "from IPython.display import display\n",
    "from sklearn.metrics import accuracy_score\n",
    "from sklearn.metrics import confusion_matrix\n",
    "from sklearn.metrics import auc\n",
    "from sklearn import preprocessing\n",
    "from sklearn import linear_model\n",
    "from sklearn import discriminant_analysis\n",
    "from datetime import datetime\n",
    "from sklearn.linear_model import LinearRegression"
   ]
  },
  {
   "cell_type": "code",
   "execution_count": 2,
   "metadata": {
    "collapsed": true
   },
   "outputs": [],
   "source": [
    "dataframe = pd.read_csv(\"cs109a_midterm.csv\")"
   ]
  },
  {
   "cell_type": "code",
   "execution_count": 3,
   "metadata": {},
   "outputs": [
    {
     "data": {
      "text/html": [
       "<div>\n",
       "<style>\n",
       "    .dataframe thead tr:only-child th {\n",
       "        text-align: right;\n",
       "    }\n",
       "\n",
       "    .dataframe thead th {\n",
       "        text-align: left;\n",
       "    }\n",
       "\n",
       "    .dataframe tbody tr th {\n",
       "        vertical-align: top;\n",
       "    }\n",
       "</style>\n",
       "<table border=\"1\" class=\"dataframe\">\n",
       "  <thead>\n",
       "    <tr style=\"text-align: right;\">\n",
       "      <th></th>\n",
       "      <th>DATE</th>\n",
       "      <th>MONTH</th>\n",
       "      <th>DAY</th>\n",
       "      <th>DAY_OF_WEEK</th>\n",
       "      <th>AIRLINE</th>\n",
       "      <th>FLIGHT_NUMBER</th>\n",
       "      <th>TAIL_NUMBER</th>\n",
       "      <th>ORIGIN_AIRPORT</th>\n",
       "      <th>DESTINATION_AIRPORT</th>\n",
       "      <th>SCHED_DEP</th>\n",
       "      <th>...</th>\n",
       "      <th>DEPARTURE_DELAY</th>\n",
       "      <th>ARRIVAL_DELAY</th>\n",
       "      <th>DISTANCE</th>\n",
       "      <th>SCHEDULED_TIME</th>\n",
       "      <th>ELAPSED_TIME</th>\n",
       "      <th>AIR_SYSTEM_DELAY</th>\n",
       "      <th>SECURITY_DELAY</th>\n",
       "      <th>AIRLINE_DELAY</th>\n",
       "      <th>LATE_AIRCRAFT_DELAY</th>\n",
       "      <th>WEATHER_DELAY</th>\n",
       "    </tr>\n",
       "  </thead>\n",
       "  <tbody>\n",
       "    <tr>\n",
       "      <th>0</th>\n",
       "      <td>2015-09-19</td>\n",
       "      <td>9</td>\n",
       "      <td>19</td>\n",
       "      <td>6</td>\n",
       "      <td>AA</td>\n",
       "      <td>394</td>\n",
       "      <td>N3FMAA</td>\n",
       "      <td>ORD</td>\n",
       "      <td>LGA</td>\n",
       "      <td>07:15:00</td>\n",
       "      <td>...</td>\n",
       "      <td>9.0</td>\n",
       "      <td>1.0</td>\n",
       "      <td>733</td>\n",
       "      <td>135.0</td>\n",
       "      <td>127.0</td>\n",
       "      <td>NaN</td>\n",
       "      <td>NaN</td>\n",
       "      <td>NaN</td>\n",
       "      <td>NaN</td>\n",
       "      <td>NaN</td>\n",
       "    </tr>\n",
       "    <tr>\n",
       "      <th>1</th>\n",
       "      <td>2015-10-28</td>\n",
       "      <td>10</td>\n",
       "      <td>28</td>\n",
       "      <td>3</td>\n",
       "      <td>AA</td>\n",
       "      <td>375</td>\n",
       "      <td>N4YDAA</td>\n",
       "      <td>11298</td>\n",
       "      <td>13342</td>\n",
       "      <td>20:15:00</td>\n",
       "      <td>...</td>\n",
       "      <td>0.0</td>\n",
       "      <td>-31.0</td>\n",
       "      <td>853</td>\n",
       "      <td>149.0</td>\n",
       "      <td>118.0</td>\n",
       "      <td>NaN</td>\n",
       "      <td>NaN</td>\n",
       "      <td>NaN</td>\n",
       "      <td>NaN</td>\n",
       "      <td>NaN</td>\n",
       "    </tr>\n",
       "    <tr>\n",
       "      <th>2</th>\n",
       "      <td>2015-08-19</td>\n",
       "      <td>8</td>\n",
       "      <td>19</td>\n",
       "      <td>3</td>\n",
       "      <td>MQ</td>\n",
       "      <td>3648</td>\n",
       "      <td>N512MQ</td>\n",
       "      <td>XNA</td>\n",
       "      <td>ORD</td>\n",
       "      <td>12:22:00</td>\n",
       "      <td>...</td>\n",
       "      <td>-1.0</td>\n",
       "      <td>-21.0</td>\n",
       "      <td>522</td>\n",
       "      <td>108.0</td>\n",
       "      <td>88.0</td>\n",
       "      <td>NaN</td>\n",
       "      <td>NaN</td>\n",
       "      <td>NaN</td>\n",
       "      <td>NaN</td>\n",
       "      <td>NaN</td>\n",
       "    </tr>\n",
       "    <tr>\n",
       "      <th>3</th>\n",
       "      <td>2015-12-01</td>\n",
       "      <td>12</td>\n",
       "      <td>1</td>\n",
       "      <td>2</td>\n",
       "      <td>WN</td>\n",
       "      <td>4096</td>\n",
       "      <td>N912WN</td>\n",
       "      <td>PHX</td>\n",
       "      <td>BWI</td>\n",
       "      <td>11:20:00</td>\n",
       "      <td>...</td>\n",
       "      <td>11.0</td>\n",
       "      <td>-14.0</td>\n",
       "      <td>1999</td>\n",
       "      <td>260.0</td>\n",
       "      <td>235.0</td>\n",
       "      <td>NaN</td>\n",
       "      <td>NaN</td>\n",
       "      <td>NaN</td>\n",
       "      <td>NaN</td>\n",
       "      <td>NaN</td>\n",
       "    </tr>\n",
       "    <tr>\n",
       "      <th>4</th>\n",
       "      <td>2015-09-15</td>\n",
       "      <td>9</td>\n",
       "      <td>15</td>\n",
       "      <td>2</td>\n",
       "      <td>WN</td>\n",
       "      <td>285</td>\n",
       "      <td>N7718B</td>\n",
       "      <td>MCI</td>\n",
       "      <td>DEN</td>\n",
       "      <td>14:10:00</td>\n",
       "      <td>...</td>\n",
       "      <td>-4.0</td>\n",
       "      <td>-12.0</td>\n",
       "      <td>533</td>\n",
       "      <td>105.0</td>\n",
       "      <td>97.0</td>\n",
       "      <td>NaN</td>\n",
       "      <td>NaN</td>\n",
       "      <td>NaN</td>\n",
       "      <td>NaN</td>\n",
       "      <td>NaN</td>\n",
       "    </tr>\n",
       "  </tbody>\n",
       "</table>\n",
       "<p>5 rows × 21 columns</p>\n",
       "</div>"
      ],
      "text/plain": [
       "         DATE  MONTH  DAY  DAY_OF_WEEK AIRLINE  FLIGHT_NUMBER TAIL_NUMBER  \\\n",
       "0  2015-09-19      9   19            6      AA            394      N3FMAA   \n",
       "1  2015-10-28     10   28            3      AA            375      N4YDAA   \n",
       "2  2015-08-19      8   19            3      MQ           3648      N512MQ   \n",
       "3  2015-12-01     12    1            2      WN           4096      N912WN   \n",
       "4  2015-09-15      9   15            2      WN            285      N7718B   \n",
       "\n",
       "  ORIGIN_AIRPORT DESTINATION_AIRPORT SCHED_DEP      ...       DEPARTURE_DELAY  \\\n",
       "0            ORD                 LGA  07:15:00      ...                   9.0   \n",
       "1          11298               13342  20:15:00      ...                   0.0   \n",
       "2            XNA                 ORD  12:22:00      ...                  -1.0   \n",
       "3            PHX                 BWI  11:20:00      ...                  11.0   \n",
       "4            MCI                 DEN  14:10:00      ...                  -4.0   \n",
       "\n",
       "   ARRIVAL_DELAY  DISTANCE  SCHEDULED_TIME  ELAPSED_TIME  AIR_SYSTEM_DELAY  \\\n",
       "0            1.0       733           135.0         127.0               NaN   \n",
       "1          -31.0       853           149.0         118.0               NaN   \n",
       "2          -21.0       522           108.0          88.0               NaN   \n",
       "3          -14.0      1999           260.0         235.0               NaN   \n",
       "4          -12.0       533           105.0          97.0               NaN   \n",
       "\n",
       "   SECURITY_DELAY  AIRLINE_DELAY  LATE_AIRCRAFT_DELAY  WEATHER_DELAY  \n",
       "0             NaN            NaN                  NaN            NaN  \n",
       "1             NaN            NaN                  NaN            NaN  \n",
       "2             NaN            NaN                  NaN            NaN  \n",
       "3             NaN            NaN                  NaN            NaN  \n",
       "4             NaN            NaN                  NaN            NaN  \n",
       "\n",
       "[5 rows x 21 columns]"
      ]
     },
     "execution_count": 3,
     "metadata": {},
     "output_type": "execute_result"
    }
   ],
   "source": [
    "df = dataframe.copy()\n",
    "df.head()"
   ]
  },
  {
   "cell_type": "code",
   "execution_count": 4,
   "metadata": {},
   "outputs": [
    {
     "data": {
      "text/plain": [
       "(804941, 21)"
      ]
     },
     "execution_count": 4,
     "metadata": {},
     "output_type": "execute_result"
    }
   ],
   "source": [
    "df.shape"
   ]
  },
  {
   "cell_type": "code",
   "execution_count": 5,
   "metadata": {
    "collapsed": true
   },
   "outputs": [],
   "source": [
    "# Question 1: create indicator for arrival delay at or above 15 mins\n",
    "df['DELAY_OR_NOT']=(df['ARRIVAL_DELAY']>=15)*1"
   ]
  },
  {
   "cell_type": "code",
   "execution_count": 6,
   "metadata": {},
   "outputs": [
    {
     "data": {
      "text/html": [
       "<div>\n",
       "<style>\n",
       "    .dataframe thead tr:only-child th {\n",
       "        text-align: right;\n",
       "    }\n",
       "\n",
       "    .dataframe thead th {\n",
       "        text-align: left;\n",
       "    }\n",
       "\n",
       "    .dataframe tbody tr th {\n",
       "        vertical-align: top;\n",
       "    }\n",
       "</style>\n",
       "<table border=\"1\" class=\"dataframe\">\n",
       "  <thead>\n",
       "    <tr style=\"text-align: right;\">\n",
       "      <th></th>\n",
       "      <th>DATE</th>\n",
       "      <th>MONTH</th>\n",
       "      <th>DAY</th>\n",
       "      <th>DAY_OF_WEEK</th>\n",
       "      <th>AIRLINE</th>\n",
       "      <th>FLIGHT_NUMBER</th>\n",
       "      <th>TAIL_NUMBER</th>\n",
       "      <th>ORIGIN_AIRPORT</th>\n",
       "      <th>DESTINATION_AIRPORT</th>\n",
       "      <th>SCHED_DEP</th>\n",
       "      <th>...</th>\n",
       "      <th>ARRIVAL_DELAY</th>\n",
       "      <th>DISTANCE</th>\n",
       "      <th>SCHEDULED_TIME</th>\n",
       "      <th>ELAPSED_TIME</th>\n",
       "      <th>AIR_SYSTEM_DELAY</th>\n",
       "      <th>SECURITY_DELAY</th>\n",
       "      <th>AIRLINE_DELAY</th>\n",
       "      <th>LATE_AIRCRAFT_DELAY</th>\n",
       "      <th>WEATHER_DELAY</th>\n",
       "      <th>DELAY_OR_NOT</th>\n",
       "    </tr>\n",
       "  </thead>\n",
       "  <tbody>\n",
       "    <tr>\n",
       "      <th>0</th>\n",
       "      <td>2015-09-19</td>\n",
       "      <td>9</td>\n",
       "      <td>19</td>\n",
       "      <td>6</td>\n",
       "      <td>AA</td>\n",
       "      <td>394</td>\n",
       "      <td>N3FMAA</td>\n",
       "      <td>ORD</td>\n",
       "      <td>LGA</td>\n",
       "      <td>07:15:00</td>\n",
       "      <td>...</td>\n",
       "      <td>1.0</td>\n",
       "      <td>733</td>\n",
       "      <td>135.0</td>\n",
       "      <td>127.0</td>\n",
       "      <td>NaN</td>\n",
       "      <td>NaN</td>\n",
       "      <td>NaN</td>\n",
       "      <td>NaN</td>\n",
       "      <td>NaN</td>\n",
       "      <td>0</td>\n",
       "    </tr>\n",
       "    <tr>\n",
       "      <th>1</th>\n",
       "      <td>2015-10-28</td>\n",
       "      <td>10</td>\n",
       "      <td>28</td>\n",
       "      <td>3</td>\n",
       "      <td>AA</td>\n",
       "      <td>375</td>\n",
       "      <td>N4YDAA</td>\n",
       "      <td>11298</td>\n",
       "      <td>13342</td>\n",
       "      <td>20:15:00</td>\n",
       "      <td>...</td>\n",
       "      <td>-31.0</td>\n",
       "      <td>853</td>\n",
       "      <td>149.0</td>\n",
       "      <td>118.0</td>\n",
       "      <td>NaN</td>\n",
       "      <td>NaN</td>\n",
       "      <td>NaN</td>\n",
       "      <td>NaN</td>\n",
       "      <td>NaN</td>\n",
       "      <td>0</td>\n",
       "    </tr>\n",
       "    <tr>\n",
       "      <th>2</th>\n",
       "      <td>2015-08-19</td>\n",
       "      <td>8</td>\n",
       "      <td>19</td>\n",
       "      <td>3</td>\n",
       "      <td>MQ</td>\n",
       "      <td>3648</td>\n",
       "      <td>N512MQ</td>\n",
       "      <td>XNA</td>\n",
       "      <td>ORD</td>\n",
       "      <td>12:22:00</td>\n",
       "      <td>...</td>\n",
       "      <td>-21.0</td>\n",
       "      <td>522</td>\n",
       "      <td>108.0</td>\n",
       "      <td>88.0</td>\n",
       "      <td>NaN</td>\n",
       "      <td>NaN</td>\n",
       "      <td>NaN</td>\n",
       "      <td>NaN</td>\n",
       "      <td>NaN</td>\n",
       "      <td>0</td>\n",
       "    </tr>\n",
       "    <tr>\n",
       "      <th>3</th>\n",
       "      <td>2015-12-01</td>\n",
       "      <td>12</td>\n",
       "      <td>1</td>\n",
       "      <td>2</td>\n",
       "      <td>WN</td>\n",
       "      <td>4096</td>\n",
       "      <td>N912WN</td>\n",
       "      <td>PHX</td>\n",
       "      <td>BWI</td>\n",
       "      <td>11:20:00</td>\n",
       "      <td>...</td>\n",
       "      <td>-14.0</td>\n",
       "      <td>1999</td>\n",
       "      <td>260.0</td>\n",
       "      <td>235.0</td>\n",
       "      <td>NaN</td>\n",
       "      <td>NaN</td>\n",
       "      <td>NaN</td>\n",
       "      <td>NaN</td>\n",
       "      <td>NaN</td>\n",
       "      <td>0</td>\n",
       "    </tr>\n",
       "    <tr>\n",
       "      <th>4</th>\n",
       "      <td>2015-09-15</td>\n",
       "      <td>9</td>\n",
       "      <td>15</td>\n",
       "      <td>2</td>\n",
       "      <td>WN</td>\n",
       "      <td>285</td>\n",
       "      <td>N7718B</td>\n",
       "      <td>MCI</td>\n",
       "      <td>DEN</td>\n",
       "      <td>14:10:00</td>\n",
       "      <td>...</td>\n",
       "      <td>-12.0</td>\n",
       "      <td>533</td>\n",
       "      <td>105.0</td>\n",
       "      <td>97.0</td>\n",
       "      <td>NaN</td>\n",
       "      <td>NaN</td>\n",
       "      <td>NaN</td>\n",
       "      <td>NaN</td>\n",
       "      <td>NaN</td>\n",
       "      <td>0</td>\n",
       "    </tr>\n",
       "  </tbody>\n",
       "</table>\n",
       "<p>5 rows × 22 columns</p>\n",
       "</div>"
      ],
      "text/plain": [
       "         DATE  MONTH  DAY  DAY_OF_WEEK AIRLINE  FLIGHT_NUMBER TAIL_NUMBER  \\\n",
       "0  2015-09-19      9   19            6      AA            394      N3FMAA   \n",
       "1  2015-10-28     10   28            3      AA            375      N4YDAA   \n",
       "2  2015-08-19      8   19            3      MQ           3648      N512MQ   \n",
       "3  2015-12-01     12    1            2      WN           4096      N912WN   \n",
       "4  2015-09-15      9   15            2      WN            285      N7718B   \n",
       "\n",
       "  ORIGIN_AIRPORT DESTINATION_AIRPORT SCHED_DEP      ...      ARRIVAL_DELAY  \\\n",
       "0            ORD                 LGA  07:15:00      ...                1.0   \n",
       "1          11298               13342  20:15:00      ...              -31.0   \n",
       "2            XNA                 ORD  12:22:00      ...              -21.0   \n",
       "3            PHX                 BWI  11:20:00      ...              -14.0   \n",
       "4            MCI                 DEN  14:10:00      ...              -12.0   \n",
       "\n",
       "   DISTANCE  SCHEDULED_TIME  ELAPSED_TIME  AIR_SYSTEM_DELAY  SECURITY_DELAY  \\\n",
       "0       733           135.0         127.0               NaN             NaN   \n",
       "1       853           149.0         118.0               NaN             NaN   \n",
       "2       522           108.0          88.0               NaN             NaN   \n",
       "3      1999           260.0         235.0               NaN             NaN   \n",
       "4       533           105.0          97.0               NaN             NaN   \n",
       "\n",
       "   AIRLINE_DELAY  LATE_AIRCRAFT_DELAY  WEATHER_DELAY  DELAY_OR_NOT  \n",
       "0            NaN                  NaN            NaN             0  \n",
       "1            NaN                  NaN            NaN             0  \n",
       "2            NaN                  NaN            NaN             0  \n",
       "3            NaN                  NaN            NaN             0  \n",
       "4            NaN                  NaN            NaN             0  \n",
       "\n",
       "[5 rows x 22 columns]"
      ]
     },
     "execution_count": 6,
     "metadata": {},
     "output_type": "execute_result"
    }
   ],
   "source": [
    "df.head()"
   ]
  },
  {
   "cell_type": "markdown",
   "metadata": {},
   "source": [
    "Question 2: (5pts) Make sure you understand the data variable descriptions before you start the analysis. Consider all the columns and determine and list which of these predictors should not be used."
   ]
  },
  {
   "cell_type": "code",
   "execution_count": 7,
   "metadata": {},
   "outputs": [
    {
     "name": "stdout",
     "output_type": "stream",
     "text": [
      "Unique flight numbers:  6754\n",
      "Unique tail numbers:  4819\n"
     ]
    }
   ],
   "source": [
    "print(\"Unique flight numbers: \", df['FLIGHT_NUMBER'].unique().size)\n",
    "print(\"Unique tail numbers: \", df['TAIL_NUMBER'].unique().size)"
   ]
  },
  {
   "cell_type": "markdown",
   "metadata": {},
   "source": [
    "DEPARTURE_DELAY, ELAPSED_TIME, AIR_SYSTEM_DELAY, SECURITY_DELAY, AIRLINE_DELAY, LATE_AIRCRAFT_DELAY, and WEATHER_DELAY should not be used. We are trying to determine whether a flight will be delayed, and if so, how long it will be delayed, so we are limited to the data that can be collected before the plane takes off.\n",
    "\n",
    "We also won't use DATE because the same information is encoded in the MONTH and DAY predictors. And finally, we won't use FLIGHT_NUMBER or TAIL_NUMBER because they are categorical variables with too many categories. It's not worth it to add 10,000 binary predictors just in case one particular flight pattern or aircraft is extremely influential on whether or not a flight is delayed."
   ]
  },
  {
   "cell_type": "markdown",
   "metadata": {},
   "source": [
    "Question 3: (15pts) \n",
    "\n",
    "Perform EDA to gain intuition of the factors that affect delay and provide visuals: do delays vary across airlines, or time of departure, or airport (do, at the very least, Chicago (ORD), Boston (BOS), and your favorite another airport), or airport traffic?"
   ]
  },
  {
   "cell_type": "code",
   "execution_count": 8,
   "metadata": {},
   "outputs": [],
   "source": [
    "# proportion of flights delayed by airline\n",
    "delayed_prop = {}\n",
    "delayed_prop['airline'] = df.groupby(['AIRLINE'])['DELAY_OR_NOT'].sum()/df.groupby(['AIRLINE'])['DELAY_OR_NOT'].count()"
   ]
  },
  {
   "cell_type": "code",
   "execution_count": 9,
   "metadata": {},
   "outputs": [
    {
     "data": {
      "text/plain": [
       "<matplotlib.axes._subplots.AxesSubplot at 0x2be85625208>"
      ]
     },
     "execution_count": 9,
     "metadata": {},
     "output_type": "execute_result"
    },
    {
     "data": {
      "image/png": "[encoded data removed]",
      "text/plain": [
       "<matplotlib.figure.Figure at 0x2befe55ab70>"
      ]
     },
     "metadata": {},
     "output_type": "display_data"
    }
   ],
   "source": [
    "delayed_prop['airline'] = df.groupby(['AIRLINE'])['DELAY_OR_NOT'].sum()/df.groupby(['AIRLINE'])['DELAY_OR_NOT'].count()\n",
    "delayed_prop['airline'].plot(kind=\"barh\", title=\"Proportion of delayed flights by airline\")"
   ]
  },
  {
   "cell_type": "code",
   "execution_count": 10,
   "metadata": {},
   "outputs": [
    {
     "data": {
      "text/plain": [
       "<matplotlib.text.Text at 0x2be8590d6a0>"
      ]
     },
     "execution_count": 10,
     "metadata": {},
     "output_type": "execute_result"
    },
    {
     "data": {
      "image/png": "[encoded data removed]",
      "text/plain": [
       "<matplotlib.figure.Figure at 0x2beef2f1da0>"
      ]
     },
     "metadata": {},
     "output_type": "display_data"
    }
   ],
   "source": [
    "airlines = delayed_prop['airline'].index\n",
    "nums = np.arange(len(airlines))\n",
    "plt.barh(nums, delayed_prop['airline'].values)\n",
    "ticks = plt.yticks(nums,airlines)\n",
    "plt.title(\"Proportion of delayed flights by airline\")\n",
    "plt.ylabel(\"Airline\")"
   ]
  },
  {
   "cell_type": "markdown",
   "metadata": {},
   "source": [
    "Most airlines seem to have approximately 10% of their flights delayed, but NK and F9 are noticeable outliers with much higher proportions, while HA, DL, and AS have smaller proportions."
   ]
  },
  {
   "cell_type": "code",
   "execution_count": 11,
   "metadata": {
    "collapsed": true
   },
   "outputs": [],
   "source": [
    "# top 50 airports by number of flights originating from there\n",
    "topairport = df['ORIGIN_AIRPORT'].value_counts()[:50].index\n",
    "\n",
    "delayed_prop['origin_airport'] = df.groupby(['ORIGIN_AIRPORT'])['DELAY_OR_NOT'].sum()/df.groupby(['ORIGIN_AIRPORT'])['DELAY_OR_NOT'].count()\n",
    "delayed_prop['top_origin_airport'] = delayed_prop['origin_airport'][topairport]"
   ]
  },
  {
   "cell_type": "code",
   "execution_count": 12,
   "metadata": {
    "collapsed": true
   },
   "outputs": [],
   "source": [
    "delayed_prop['dest_airport'] = df.groupby(['DESTINATION_AIRPORT'])['DELAY_OR_NOT'].sum()/df.groupby(['DESTINATION_AIRPORT'])['DELAY_OR_NOT'].count()\n",
    "delayed_prop['top_dest_airport'] = delayed_prop['dest_airport'][topairport]"
   ]
  },
  {
   "cell_type": "code",
   "execution_count": 13,
   "metadata": {},
   "outputs": [
    {
     "data": {
      "image/png": "[encoded data removed]",
      "text/plain": [
       "<matplotlib.figure.Figure at 0x2be85eff8d0>"
      ]
     },
     "metadata": {},
     "output_type": "display_data"
    }
   ],
   "source": [
    "width = 0.4\n",
    "fig, ax = plt.subplots(figsize=(7,15))\n",
    "nums = np.arange(len(topairport))\n",
    "ax.barh(nums, delayed_prop['top_origin_airport'].values, width, label = \"Origin\", color='orange')\n",
    "ax.barh(nums+width, delayed_prop['top_dest_airport'].values, width, label = \"Destination\", color='blue')\n",
    "ticks = plt.yticks(nums,topairport)\n",
    "ax.set_title(\"Proportion of delayed flights by airport\")\n",
    "ax.legend(loc='best')\n",
    "plt.ylabel(\"Airport\")\n",
    "plt.gca().invert_yaxis()"
   ]
  },
  {
   "cell_type": "code",
   "execution_count": 14,
   "metadata": {},
   "outputs": [
    {
     "name": "stdout",
     "output_type": "stream",
     "text": [
      "Mean proportion of delayed flights by origin airport: 0.108007260017\n",
      "Mean proportion of delayed flights by dest airport: 0.10618870124\n"
     ]
    }
   ],
   "source": [
    "print(\"Mean proportion of delayed flights by origin airport:\", delayed_prop['top_origin_airport'].values.mean())\n",
    "print(\"Mean proportion of delayed flights by dest airport:\", delayed_prop['top_dest_airport'].values.mean())"
   ]
  },
  {
   "cell_type": "markdown",
   "metadata": {},
   "source": [
    "For this plot, I selected the top 50 airports by number of flights originating from there. The mean proportion of delayed flights by airport is 0.11, whether the airport is the origin or the destination. Many airports have approximately equal proportions of delayed flights by origin and destination, with some exceptions. LGA has the noticeably highest proportion of delayed flights by destination, and one of the highest proportions by origin. The second highest proportion of delayed flights by destination airport is FLL, but its proportion by origin is only half of its proportion by destination."
   ]
  },
  {
   "cell_type": "code",
   "execution_count": 15,
   "metadata": {},
   "outputs": [
    {
     "data": {
      "text/plain": [
       "<matplotlib.text.Text at 0x2be86220630>"
      ]
     },
     "execution_count": 15,
     "metadata": {},
     "output_type": "execute_result"
    },
    {
     "data": {
      "image/png": "[encoded data removed]",
      "text/plain": [
       "<matplotlib.figure.Figure at 0x2be85eb1da0>"
      ]
     },
     "metadata": {},
     "output_type": "display_data"
    }
   ],
   "source": [
    "airlines = delayed_prop['airline'].index\n",
    "nums = np.arange(len(airlines))\n",
    "plt.barh(nums, delayed_prop['airline'].values)\n",
    "ticks = plt.yticks(nums,airlines)\n",
    "plt.title(\"Proportion of delayed flights by airline\")\n",
    "plt.ylabel(\"Airline\")"
   ]
  },
  {
   "cell_type": "code",
   "execution_count": 16,
   "metadata": {},
   "outputs": [
    {
     "data": {
      "text/plain": [
       "<matplotlib.axes._subplots.AxesSubplot at 0x2be862b9a20>"
      ]
     },
     "execution_count": 16,
     "metadata": {},
     "output_type": "execute_result"
    },
    {
     "data": {
      "image/png": "[encoded data removed]",
      "text/plain": [
       "<matplotlib.figure.Figure at 0x2be862ad518>"
      ]
     },
     "metadata": {},
     "output_type": "display_data"
    }
   ],
   "source": [
    "delayed_prop['month'] = df.groupby(['MONTH'])['DELAY_OR_NOT'].sum()/df.groupby(['MONTH'])['DELAY_OR_NOT'].count()\n",
    "delayed_prop['month'].plot(kind=\"barh\", title=\"Proportion of delayed flights by month\")"
   ]
  },
  {
   "cell_type": "code",
   "execution_count": 17,
   "metadata": {},
   "outputs": [
    {
     "data": {
      "text/plain": [
       "count    12.000000\n",
       "mean      0.104700\n",
       "std       0.045836\n",
       "min       0.037127\n",
       "25%       0.074243\n",
       "50%       0.104499\n",
       "75%       0.135525\n",
       "max       0.184443\n",
       "Name: DELAY_OR_NOT, dtype: float64"
      ]
     },
     "execution_count": 17,
     "metadata": {},
     "output_type": "execute_result"
    }
   ],
   "source": [
    "delayed_prop['month'].describe()"
   ]
  },
  {
   "cell_type": "markdown",
   "metadata": {},
   "source": [
    "The proportion of delayed flights varies significantly by month, with a minimum of 0.037 in October and a maximum of 0.184 in June."
   ]
  },
  {
   "cell_type": "code",
   "execution_count": 18,
   "metadata": {},
   "outputs": [
    {
     "data": {
      "text/plain": [
       "<matplotlib.axes._subplots.AxesSubplot at 0x2be863d79b0>"
      ]
     },
     "execution_count": 18,
     "metadata": {},
     "output_type": "execute_result"
    },
    {
     "data": {
      "image/png": "[encoded data removed]",
      "text/plain": [
       "<matplotlib.figure.Figure at 0x2be86383a90>"
      ]
     },
     "metadata": {},
     "output_type": "display_data"
    }
   ],
   "source": [
    "delayed_prop['day'] = df.groupby(['DAY'])['DELAY_OR_NOT'].sum()/df.groupby(['DAY'])['DELAY_OR_NOT'].count()\n",
    "delayed_prop['day'].plot(kind=\"barh\", title=\"Proportion of delayed flights by day of month\")"
   ]
  },
  {
   "cell_type": "code",
   "execution_count": 19,
   "metadata": {},
   "outputs": [
    {
     "data": {
      "text/plain": [
       "count    31.000000\n",
       "mean      0.101809\n",
       "std       0.011077\n",
       "min       0.082616\n",
       "25%       0.094770\n",
       "50%       0.100124\n",
       "75%       0.108313\n",
       "max       0.128818\n",
       "Name: DELAY_OR_NOT, dtype: float64"
      ]
     },
     "execution_count": 19,
     "metadata": {},
     "output_type": "execute_result"
    }
   ],
   "source": [
    "delayed_prop['day'].describe()"
   ]
  },
  {
   "cell_type": "markdown",
   "metadata": {},
   "source": [
    "The proportion of delayed flights stays close to the mean of 0.102 based on the day of the month."
   ]
  },
  {
   "cell_type": "code",
   "execution_count": 20,
   "metadata": {},
   "outputs": [
    {
     "data": {
      "text/plain": [
       "<matplotlib.axes._subplots.AxesSubplot at 0x2be866e3400>"
      ]
     },
     "execution_count": 20,
     "metadata": {},
     "output_type": "execute_result"
    },
    {
     "data": {
      "image/png": "[encoded data removed]",
      "text/plain": [
       "<matplotlib.figure.Figure at 0x2be86462710>"
      ]
     },
     "metadata": {},
     "output_type": "display_data"
    }
   ],
   "source": [
    "delayed_prop['week'] = df.groupby(['DAY_OF_WEEK'])['DELAY_OR_NOT'].sum()/df.groupby(['DAY_OF_WEEK'])['DELAY_OR_NOT'].count()\n",
    "delayed_prop['week'].plot(kind=\"barh\", title=\"Proportion of delayed flights by day of week\")"
   ]
  },
  {
   "cell_type": "code",
   "execution_count": 21,
   "metadata": {},
   "outputs": [
    {
     "data": {
      "text/plain": [
       "count    7.000000\n",
       "mean     0.101446\n",
       "std      0.024466\n",
       "min      0.063124\n",
       "25%      0.088455\n",
       "50%      0.099788\n",
       "75%      0.117598\n",
       "max      0.135107\n",
       "Name: DELAY_OR_NOT, dtype: float64"
      ]
     },
     "execution_count": 21,
     "metadata": {},
     "output_type": "execute_result"
    }
   ],
   "source": [
    "delayed_prop['week'].describe()"
   ]
  },
  {
   "cell_type": "markdown",
   "metadata": {},
   "source": [
    "The proportion of delayed flights varies slightly around the mean of 0.101 based on the day of the week, with a minimum on Saturday at 0.063 and a maximum on Thursday at 0.135."
   ]
  },
  {
   "cell_type": "code",
   "execution_count": 22,
   "metadata": {},
   "outputs": [
    {
     "data": {
      "text/plain": [
       "<matplotlib.axes._subplots.AxesSubplot at 0x2be86818358>"
      ]
     },
     "execution_count": 22,
     "metadata": {},
     "output_type": "execute_result"
    },
    {
     "data": {
      "image/png": "[encoded data removed]",
      "text/plain": [
       "<matplotlib.figure.Figure at 0x2be86297dd8>"
      ]
     },
     "metadata": {},
     "output_type": "display_data"
    }
   ],
   "source": [
    "delayed_prop['sched_dep'] = df.groupby(['SCHED_DEP'])['DELAY_OR_NOT'].sum()/df.groupby(['SCHED_DEP'])['DELAY_OR_NOT'].count()\n",
    "delayed_prop['sched_dep'].plot(title=\"Proportion of delayed flights by scheduled departure time\")"
   ]
  },
  {
   "cell_type": "markdown",
   "metadata": {},
   "source": [
    "The general upward trend of this plot shows that the later in the day a plane is scheduled to depart, the more likely it is to be delayed."
   ]
  },
  {
   "cell_type": "code",
   "execution_count": 23,
   "metadata": {},
   "outputs": [
    {
     "data": {
      "text/plain": [
       "<matplotlib.axes._subplots.AxesSubplot at 0x2be8619cf28>"
      ]
     },
     "execution_count": 23,
     "metadata": {},
     "output_type": "execute_result"
    },
    {
     "data": {
      "image/png": "[encoded data removed]",
      "text/plain": [
       "<matplotlib.figure.Figure at 0x2be85f6f2e8>"
      ]
     },
     "metadata": {},
     "output_type": "display_data"
    }
   ],
   "source": [
    "delayed_prop['sched_dep'] = df.groupby(['SCHED_ARR'])['DELAY_OR_NOT'].sum()/df.groupby(['SCHED_ARR'])['DELAY_OR_NOT'].count()\n",
    "delayed_prop['sched_dep'].plot(title=\"Proportion of delayed flights by scheduled arrival time\")"
   ]
  },
  {
   "cell_type": "markdown",
   "metadata": {},
   "source": [
    "This plot shows that there is a lot of variability in the proportion of delayed flights arriving very early in the day, but around 7:30am, the variation is significantly reduced, and the proportion gradually increases throughout the day."
   ]
  },
  {
   "cell_type": "markdown",
   "metadata": {},
   "source": [
    "Question 4 (20 pts):\n",
    "\n",
    "Build a classification model that classifies delays according to DELAY_OR_NOT. This is an unbalanced dataset, thus consider the appropriate performance metric when reporting your results."
   ]
  },
  {
   "cell_type": "code",
   "execution_count": 24,
   "metadata": {},
   "outputs": [
    {
     "data": {
      "text/html": [
       "<div>\n",
       "<style>\n",
       "    .dataframe thead tr:only-child th {\n",
       "        text-align: right;\n",
       "    }\n",
       "\n",
       "    .dataframe thead th {\n",
       "        text-align: left;\n",
       "    }\n",
       "\n",
       "    .dataframe tbody tr th {\n",
       "        vertical-align: top;\n",
       "    }\n",
       "</style>\n",
       "<table border=\"1\" class=\"dataframe\">\n",
       "  <thead>\n",
       "    <tr style=\"text-align: right;\">\n",
       "      <th></th>\n",
       "      <th>MONTH</th>\n",
       "      <th>DAY</th>\n",
       "      <th>DAY_OF_WEEK</th>\n",
       "      <th>AIRLINE</th>\n",
       "      <th>ORIGIN_AIRPORT</th>\n",
       "      <th>DESTINATION_AIRPORT</th>\n",
       "      <th>SCHED_DEP</th>\n",
       "      <th>SCHED_ARR</th>\n",
       "      <th>DISTANCE</th>\n",
       "      <th>SCHEDULED_TIME</th>\n",
       "      <th>DELAY_OR_NOT</th>\n",
       "    </tr>\n",
       "  </thead>\n",
       "  <tbody>\n",
       "    <tr>\n",
       "      <th>0</th>\n",
       "      <td>9</td>\n",
       "      <td>19</td>\n",
       "      <td>6</td>\n",
       "      <td>AA</td>\n",
       "      <td>ORD</td>\n",
       "      <td>LGA</td>\n",
       "      <td>07:15:00</td>\n",
       "      <td>10:30:00</td>\n",
       "      <td>733</td>\n",
       "      <td>135.0</td>\n",
       "      <td>0</td>\n",
       "    </tr>\n",
       "    <tr>\n",
       "      <th>1</th>\n",
       "      <td>10</td>\n",
       "      <td>28</td>\n",
       "      <td>3</td>\n",
       "      <td>AA</td>\n",
       "      <td>11298</td>\n",
       "      <td>13342</td>\n",
       "      <td>20:15:00</td>\n",
       "      <td>22:44:00</td>\n",
       "      <td>853</td>\n",
       "      <td>149.0</td>\n",
       "      <td>0</td>\n",
       "    </tr>\n",
       "    <tr>\n",
       "      <th>2</th>\n",
       "      <td>8</td>\n",
       "      <td>19</td>\n",
       "      <td>3</td>\n",
       "      <td>MQ</td>\n",
       "      <td>XNA</td>\n",
       "      <td>ORD</td>\n",
       "      <td>12:22:00</td>\n",
       "      <td>14:10:00</td>\n",
       "      <td>522</td>\n",
       "      <td>108.0</td>\n",
       "      <td>0</td>\n",
       "    </tr>\n",
       "    <tr>\n",
       "      <th>3</th>\n",
       "      <td>12</td>\n",
       "      <td>1</td>\n",
       "      <td>2</td>\n",
       "      <td>WN</td>\n",
       "      <td>PHX</td>\n",
       "      <td>BWI</td>\n",
       "      <td>11:20:00</td>\n",
       "      <td>17:40:00</td>\n",
       "      <td>1999</td>\n",
       "      <td>260.0</td>\n",
       "      <td>0</td>\n",
       "    </tr>\n",
       "    <tr>\n",
       "      <th>4</th>\n",
       "      <td>9</td>\n",
       "      <td>15</td>\n",
       "      <td>2</td>\n",
       "      <td>WN</td>\n",
       "      <td>MCI</td>\n",
       "      <td>DEN</td>\n",
       "      <td>14:10:00</td>\n",
       "      <td>14:55:00</td>\n",
       "      <td>533</td>\n",
       "      <td>105.0</td>\n",
       "      <td>0</td>\n",
       "    </tr>\n",
       "  </tbody>\n",
       "</table>\n",
       "</div>"
      ],
      "text/plain": [
       "   MONTH  DAY  DAY_OF_WEEK AIRLINE ORIGIN_AIRPORT DESTINATION_AIRPORT  \\\n",
       "0      9   19            6      AA            ORD                 LGA   \n",
       "1     10   28            3      AA          11298               13342   \n",
       "2      8   19            3      MQ            XNA                 ORD   \n",
       "3     12    1            2      WN            PHX                 BWI   \n",
       "4      9   15            2      WN            MCI                 DEN   \n",
       "\n",
       "  SCHED_DEP SCHED_ARR  DISTANCE  SCHEDULED_TIME  DELAY_OR_NOT  \n",
       "0  07:15:00  10:30:00       733           135.0             0  \n",
       "1  20:15:00  22:44:00       853           149.0             0  \n",
       "2  12:22:00  14:10:00       522           108.0             0  \n",
       "3  11:20:00  17:40:00      1999           260.0             0  \n",
       "4  14:10:00  14:55:00       533           105.0             0  "
      ]
     },
     "execution_count": 24,
     "metadata": {},
     "output_type": "execute_result"
    }
   ],
   "source": [
    "# drop non-predictors\n",
    "df_pred = df.copy()\n",
    "resps = ['ARRIVAL_DELAY', 'DEPARTURE_DELAY', 'ELAPSED_TIME', 'AIR_SYSTEM_DELAY', 'SECURITY_DELAY', 'AIRLINE_DELAY', 'LATE_AIRCRAFT_DELAY', 'WEATHER_DELAY']\n",
    "tedious_preds = ['DATE', 'FLIGHT_NUMBER', 'TAIL_NUMBER']\n",
    "non_preds = resps+tedious_preds\n",
    "for non_pred in non_preds:\n",
    "    df_pred = df_pred.drop(non_pred, axis=1)\n",
    "df_pred.head()"
   ]
  },
  {
   "cell_type": "code",
   "execution_count": 25,
   "metadata": {},
   "outputs": [
    {
     "name": "stdout",
     "output_type": "stream",
     "text": [
      "Unique airports:  628\n"
     ]
    }
   ],
   "source": [
    "print(\"Unique airports: \", df['ORIGIN_AIRPORT'].unique().size)"
   ]
  },
  {
   "cell_type": "markdown",
   "metadata": {},
   "source": [
    "There are too many unique airports, so let's keep the 50 airports with the highest numbers of flights originating from there, and convert all of the other airports to \"Other\"."
   ]
  },
  {
   "cell_type": "code",
   "execution_count": 26,
   "metadata": {},
   "outputs": [
    {
     "data": {
      "text/html": [
       "<div>\n",
       "<style>\n",
       "    .dataframe thead tr:only-child th {\n",
       "        text-align: right;\n",
       "    }\n",
       "\n",
       "    .dataframe thead th {\n",
       "        text-align: left;\n",
       "    }\n",
       "\n",
       "    .dataframe tbody tr th {\n",
       "        vertical-align: top;\n",
       "    }\n",
       "</style>\n",
       "<table border=\"1\" class=\"dataframe\">\n",
       "  <thead>\n",
       "    <tr style=\"text-align: right;\">\n",
       "      <th></th>\n",
       "      <th>MONTH</th>\n",
       "      <th>DAY</th>\n",
       "      <th>DAY_OF_WEEK</th>\n",
       "      <th>AIRLINE</th>\n",
       "      <th>ORIGIN_AIRPORT</th>\n",
       "      <th>DESTINATION_AIRPORT</th>\n",
       "      <th>SCHED_DEP</th>\n",
       "      <th>SCHED_ARR</th>\n",
       "      <th>DISTANCE</th>\n",
       "      <th>SCHEDULED_TIME</th>\n",
       "      <th>DELAY_OR_NOT</th>\n",
       "    </tr>\n",
       "  </thead>\n",
       "  <tbody>\n",
       "    <tr>\n",
       "      <th>0</th>\n",
       "      <td>9</td>\n",
       "      <td>19</td>\n",
       "      <td>6</td>\n",
       "      <td>AA</td>\n",
       "      <td>ORD</td>\n",
       "      <td>LGA</td>\n",
       "      <td>07:15:00</td>\n",
       "      <td>10:30:00</td>\n",
       "      <td>733</td>\n",
       "      <td>135.0</td>\n",
       "      <td>0</td>\n",
       "    </tr>\n",
       "    <tr>\n",
       "      <th>1</th>\n",
       "      <td>10</td>\n",
       "      <td>28</td>\n",
       "      <td>3</td>\n",
       "      <td>AA</td>\n",
       "      <td>Other</td>\n",
       "      <td>Other</td>\n",
       "      <td>20:15:00</td>\n",
       "      <td>22:44:00</td>\n",
       "      <td>853</td>\n",
       "      <td>149.0</td>\n",
       "      <td>0</td>\n",
       "    </tr>\n",
       "    <tr>\n",
       "      <th>2</th>\n",
       "      <td>8</td>\n",
       "      <td>19</td>\n",
       "      <td>3</td>\n",
       "      <td>MQ</td>\n",
       "      <td>Other</td>\n",
       "      <td>ORD</td>\n",
       "      <td>12:22:00</td>\n",
       "      <td>14:10:00</td>\n",
       "      <td>522</td>\n",
       "      <td>108.0</td>\n",
       "      <td>0</td>\n",
       "    </tr>\n",
       "    <tr>\n",
       "      <th>3</th>\n",
       "      <td>12</td>\n",
       "      <td>1</td>\n",
       "      <td>2</td>\n",
       "      <td>WN</td>\n",
       "      <td>PHX</td>\n",
       "      <td>BWI</td>\n",
       "      <td>11:20:00</td>\n",
       "      <td>17:40:00</td>\n",
       "      <td>1999</td>\n",
       "      <td>260.0</td>\n",
       "      <td>0</td>\n",
       "    </tr>\n",
       "    <tr>\n",
       "      <th>4</th>\n",
       "      <td>9</td>\n",
       "      <td>15</td>\n",
       "      <td>2</td>\n",
       "      <td>WN</td>\n",
       "      <td>MCI</td>\n",
       "      <td>DEN</td>\n",
       "      <td>14:10:00</td>\n",
       "      <td>14:55:00</td>\n",
       "      <td>533</td>\n",
       "      <td>105.0</td>\n",
       "      <td>0</td>\n",
       "    </tr>\n",
       "  </tbody>\n",
       "</table>\n",
       "</div>"
      ],
      "text/plain": [
       "   MONTH  DAY  DAY_OF_WEEK AIRLINE ORIGIN_AIRPORT DESTINATION_AIRPORT  \\\n",
       "0      9   19            6      AA            ORD                 LGA   \n",
       "1     10   28            3      AA          Other               Other   \n",
       "2      8   19            3      MQ          Other                 ORD   \n",
       "3     12    1            2      WN            PHX                 BWI   \n",
       "4      9   15            2      WN            MCI                 DEN   \n",
       "\n",
       "  SCHED_DEP SCHED_ARR  DISTANCE  SCHEDULED_TIME  DELAY_OR_NOT  \n",
       "0  07:15:00  10:30:00       733           135.0             0  \n",
       "1  20:15:00  22:44:00       853           149.0             0  \n",
       "2  12:22:00  14:10:00       522           108.0             0  \n",
       "3  11:20:00  17:40:00      1999           260.0             0  \n",
       "4  14:10:00  14:55:00       533           105.0             0  "
      ]
     },
     "execution_count": 26,
     "metadata": {},
     "output_type": "execute_result"
    }
   ],
   "source": [
    "# subset non-top airports into other\n",
    "def other_airport(airport):\n",
    "    if airport in list(topairport.values):\n",
    "        return airport\n",
    "    else:\n",
    "        return \"Other\"\n",
    "\n",
    "df_pred['ORIGIN_AIRPORT'] = df_pred['ORIGIN_AIRPORT'].apply(other_airport)\n",
    "df_pred['DESTINATION_AIRPORT'] = df_pred['DESTINATION_AIRPORT'].apply(other_airport)\n",
    "df_pred.head()"
   ]
  },
  {
   "cell_type": "markdown",
   "metadata": {},
   "source": [
    "The datetime.time type columns aren't truly continuous variables because 23:59 is just as close to 0:00 as it is to 23:58, so we will convert them into categorical predictors. We likely won't gain much from adding 24\\*60 predictors, so lets one-hot encode them by hour instead."
   ]
  },
  {
   "cell_type": "code",
   "execution_count": 27,
   "metadata": {},
   "outputs": [
    {
     "data": {
      "text/html": [
       "<div>\n",
       "<style>\n",
       "    .dataframe thead tr:only-child th {\n",
       "        text-align: right;\n",
       "    }\n",
       "\n",
       "    .dataframe thead th {\n",
       "        text-align: left;\n",
       "    }\n",
       "\n",
       "    .dataframe tbody tr th {\n",
       "        vertical-align: top;\n",
       "    }\n",
       "</style>\n",
       "<table border=\"1\" class=\"dataframe\">\n",
       "  <thead>\n",
       "    <tr style=\"text-align: right;\">\n",
       "      <th></th>\n",
       "      <th>MONTH</th>\n",
       "      <th>DAY</th>\n",
       "      <th>DAY_OF_WEEK</th>\n",
       "      <th>AIRLINE</th>\n",
       "      <th>ORIGIN_AIRPORT</th>\n",
       "      <th>DESTINATION_AIRPORT</th>\n",
       "      <th>SCHED_DEP</th>\n",
       "      <th>SCHED_ARR</th>\n",
       "      <th>DISTANCE</th>\n",
       "      <th>SCHEDULED_TIME</th>\n",
       "      <th>DELAY_OR_NOT</th>\n",
       "    </tr>\n",
       "  </thead>\n",
       "  <tbody>\n",
       "    <tr>\n",
       "      <th>0</th>\n",
       "      <td>9</td>\n",
       "      <td>19</td>\n",
       "      <td>6</td>\n",
       "      <td>AA</td>\n",
       "      <td>ORD</td>\n",
       "      <td>LGA</td>\n",
       "      <td>7</td>\n",
       "      <td>10</td>\n",
       "      <td>733</td>\n",
       "      <td>135.0</td>\n",
       "      <td>0</td>\n",
       "    </tr>\n",
       "    <tr>\n",
       "      <th>1</th>\n",
       "      <td>10</td>\n",
       "      <td>28</td>\n",
       "      <td>3</td>\n",
       "      <td>AA</td>\n",
       "      <td>Other</td>\n",
       "      <td>Other</td>\n",
       "      <td>20</td>\n",
       "      <td>22</td>\n",
       "      <td>853</td>\n",
       "      <td>149.0</td>\n",
       "      <td>0</td>\n",
       "    </tr>\n",
       "    <tr>\n",
       "      <th>2</th>\n",
       "      <td>8</td>\n",
       "      <td>19</td>\n",
       "      <td>3</td>\n",
       "      <td>MQ</td>\n",
       "      <td>Other</td>\n",
       "      <td>ORD</td>\n",
       "      <td>12</td>\n",
       "      <td>14</td>\n",
       "      <td>522</td>\n",
       "      <td>108.0</td>\n",
       "      <td>0</td>\n",
       "    </tr>\n",
       "    <tr>\n",
       "      <th>3</th>\n",
       "      <td>12</td>\n",
       "      <td>1</td>\n",
       "      <td>2</td>\n",
       "      <td>WN</td>\n",
       "      <td>PHX</td>\n",
       "      <td>BWI</td>\n",
       "      <td>11</td>\n",
       "      <td>17</td>\n",
       "      <td>1999</td>\n",
       "      <td>260.0</td>\n",
       "      <td>0</td>\n",
       "    </tr>\n",
       "    <tr>\n",
       "      <th>4</th>\n",
       "      <td>9</td>\n",
       "      <td>15</td>\n",
       "      <td>2</td>\n",
       "      <td>WN</td>\n",
       "      <td>MCI</td>\n",
       "      <td>DEN</td>\n",
       "      <td>14</td>\n",
       "      <td>14</td>\n",
       "      <td>533</td>\n",
       "      <td>105.0</td>\n",
       "      <td>0</td>\n",
       "    </tr>\n",
       "  </tbody>\n",
       "</table>\n",
       "</div>"
      ],
      "text/plain": [
       "   MONTH  DAY  DAY_OF_WEEK AIRLINE ORIGIN_AIRPORT DESTINATION_AIRPORT  \\\n",
       "0      9   19            6      AA            ORD                 LGA   \n",
       "1     10   28            3      AA          Other               Other   \n",
       "2      8   19            3      MQ          Other                 ORD   \n",
       "3     12    1            2      WN            PHX                 BWI   \n",
       "4      9   15            2      WN            MCI                 DEN   \n",
       "\n",
       "   SCHED_DEP  SCHED_ARR  DISTANCE  SCHEDULED_TIME  DELAY_OR_NOT  \n",
       "0          7         10       733           135.0             0  \n",
       "1         20         22       853           149.0             0  \n",
       "2         12         14       522           108.0             0  \n",
       "3         11         17      1999           260.0             0  \n",
       "4         14         14       533           105.0             0  "
      ]
     },
     "execution_count": 27,
     "metadata": {},
     "output_type": "execute_result"
    }
   ],
   "source": [
    "# convert times to hours\n",
    "def time_to_hr(hhmmss):\n",
    "    [hours, minutes, seconds] = [int(x) for x in hhmmss.split(':')]\n",
    "    return hours\n",
    "\n",
    "df_pred['SCHED_DEP'] = df_pred['SCHED_DEP'].apply(time_to_hr)\n",
    "df_pred['SCHED_ARR'] = df_pred['SCHED_ARR'].apply(time_to_hr)\n",
    "df_pred.head()"
   ]
  },
  {
   "cell_type": "code",
   "execution_count": 28,
   "metadata": {},
   "outputs": [
    {
     "data": {
      "text/html": [
       "<div>\n",
       "<style>\n",
       "    .dataframe thead tr:only-child th {\n",
       "        text-align: right;\n",
       "    }\n",
       "\n",
       "    .dataframe thead th {\n",
       "        text-align: left;\n",
       "    }\n",
       "\n",
       "    .dataframe tbody tr th {\n",
       "        vertical-align: top;\n",
       "    }\n",
       "</style>\n",
       "<table border=\"1\" class=\"dataframe\">\n",
       "  <thead>\n",
       "    <tr style=\"text-align: right;\">\n",
       "      <th></th>\n",
       "      <th>DISTANCE</th>\n",
       "      <th>SCHEDULED_TIME</th>\n",
       "      <th>DELAY_OR_NOT</th>\n",
       "      <th>AIRLINE_AS</th>\n",
       "      <th>AIRLINE_B6</th>\n",
       "      <th>AIRLINE_DL</th>\n",
       "      <th>AIRLINE_EV</th>\n",
       "      <th>AIRLINE_F9</th>\n",
       "      <th>AIRLINE_HA</th>\n",
       "      <th>AIRLINE_MQ</th>\n",
       "      <th>...</th>\n",
       "      <th>SCHED_ARR_14</th>\n",
       "      <th>SCHED_ARR_15</th>\n",
       "      <th>SCHED_ARR_16</th>\n",
       "      <th>SCHED_ARR_17</th>\n",
       "      <th>SCHED_ARR_18</th>\n",
       "      <th>SCHED_ARR_19</th>\n",
       "      <th>SCHED_ARR_20</th>\n",
       "      <th>SCHED_ARR_21</th>\n",
       "      <th>SCHED_ARR_22</th>\n",
       "      <th>SCHED_ARR_23</th>\n",
       "    </tr>\n",
       "  </thead>\n",
       "  <tbody>\n",
       "    <tr>\n",
       "      <th>0</th>\n",
       "      <td>733</td>\n",
       "      <td>135.0</td>\n",
       "      <td>0</td>\n",
       "      <td>0</td>\n",
       "      <td>0</td>\n",
       "      <td>0</td>\n",
       "      <td>0</td>\n",
       "      <td>0</td>\n",
       "      <td>0</td>\n",
       "      <td>0</td>\n",
       "      <td>...</td>\n",
       "      <td>0</td>\n",
       "      <td>0</td>\n",
       "      <td>0</td>\n",
       "      <td>0</td>\n",
       "      <td>0</td>\n",
       "      <td>0</td>\n",
       "      <td>0</td>\n",
       "      <td>0</td>\n",
       "      <td>0</td>\n",
       "      <td>0</td>\n",
       "    </tr>\n",
       "    <tr>\n",
       "      <th>1</th>\n",
       "      <td>853</td>\n",
       "      <td>149.0</td>\n",
       "      <td>0</td>\n",
       "      <td>0</td>\n",
       "      <td>0</td>\n",
       "      <td>0</td>\n",
       "      <td>0</td>\n",
       "      <td>0</td>\n",
       "      <td>0</td>\n",
       "      <td>0</td>\n",
       "      <td>...</td>\n",
       "      <td>0</td>\n",
       "      <td>0</td>\n",
       "      <td>0</td>\n",
       "      <td>0</td>\n",
       "      <td>0</td>\n",
       "      <td>0</td>\n",
       "      <td>0</td>\n",
       "      <td>0</td>\n",
       "      <td>1</td>\n",
       "      <td>0</td>\n",
       "    </tr>\n",
       "    <tr>\n",
       "      <th>2</th>\n",
       "      <td>522</td>\n",
       "      <td>108.0</td>\n",
       "      <td>0</td>\n",
       "      <td>0</td>\n",
       "      <td>0</td>\n",
       "      <td>0</td>\n",
       "      <td>0</td>\n",
       "      <td>0</td>\n",
       "      <td>0</td>\n",
       "      <td>1</td>\n",
       "      <td>...</td>\n",
       "      <td>1</td>\n",
       "      <td>0</td>\n",
       "      <td>0</td>\n",
       "      <td>0</td>\n",
       "      <td>0</td>\n",
       "      <td>0</td>\n",
       "      <td>0</td>\n",
       "      <td>0</td>\n",
       "      <td>0</td>\n",
       "      <td>0</td>\n",
       "    </tr>\n",
       "    <tr>\n",
       "      <th>3</th>\n",
       "      <td>1999</td>\n",
       "      <td>260.0</td>\n",
       "      <td>0</td>\n",
       "      <td>0</td>\n",
       "      <td>0</td>\n",
       "      <td>0</td>\n",
       "      <td>0</td>\n",
       "      <td>0</td>\n",
       "      <td>0</td>\n",
       "      <td>0</td>\n",
       "      <td>...</td>\n",
       "      <td>0</td>\n",
       "      <td>0</td>\n",
       "      <td>0</td>\n",
       "      <td>1</td>\n",
       "      <td>0</td>\n",
       "      <td>0</td>\n",
       "      <td>0</td>\n",
       "      <td>0</td>\n",
       "      <td>0</td>\n",
       "      <td>0</td>\n",
       "    </tr>\n",
       "    <tr>\n",
       "      <th>4</th>\n",
       "      <td>533</td>\n",
       "      <td>105.0</td>\n",
       "      <td>0</td>\n",
       "      <td>0</td>\n",
       "      <td>0</td>\n",
       "      <td>0</td>\n",
       "      <td>0</td>\n",
       "      <td>0</td>\n",
       "      <td>0</td>\n",
       "      <td>0</td>\n",
       "      <td>...</td>\n",
       "      <td>1</td>\n",
       "      <td>0</td>\n",
       "      <td>0</td>\n",
       "      <td>0</td>\n",
       "      <td>0</td>\n",
       "      <td>0</td>\n",
       "      <td>0</td>\n",
       "      <td>0</td>\n",
       "      <td>0</td>\n",
       "      <td>0</td>\n",
       "    </tr>\n",
       "  </tbody>\n",
       "</table>\n",
       "<p>5 rows × 209 columns</p>\n",
       "</div>"
      ],
      "text/plain": [
       "   DISTANCE  SCHEDULED_TIME  DELAY_OR_NOT  AIRLINE_AS  AIRLINE_B6  AIRLINE_DL  \\\n",
       "0       733           135.0             0           0           0           0   \n",
       "1       853           149.0             0           0           0           0   \n",
       "2       522           108.0             0           0           0           0   \n",
       "3      1999           260.0             0           0           0           0   \n",
       "4       533           105.0             0           0           0           0   \n",
       "\n",
       "   AIRLINE_EV  AIRLINE_F9  AIRLINE_HA  AIRLINE_MQ      ...       SCHED_ARR_14  \\\n",
       "0           0           0           0           0      ...                  0   \n",
       "1           0           0           0           0      ...                  0   \n",
       "2           0           0           0           1      ...                  1   \n",
       "3           0           0           0           0      ...                  0   \n",
       "4           0           0           0           0      ...                  1   \n",
       "\n",
       "   SCHED_ARR_15  SCHED_ARR_16  SCHED_ARR_17  SCHED_ARR_18  SCHED_ARR_19  \\\n",
       "0             0             0             0             0             0   \n",
       "1             0             0             0             0             0   \n",
       "2             0             0             0             0             0   \n",
       "3             0             0             1             0             0   \n",
       "4             0             0             0             0             0   \n",
       "\n",
       "   SCHED_ARR_20  SCHED_ARR_21  SCHED_ARR_22  SCHED_ARR_23  \n",
       "0             0             0             0             0  \n",
       "1             0             0             1             0  \n",
       "2             0             0             0             0  \n",
       "3             0             0             0             0  \n",
       "4             0             0             0             0  \n",
       "\n",
       "[5 rows x 209 columns]"
      ]
     },
     "execution_count": 28,
     "metadata": {},
     "output_type": "execute_result"
    }
   ],
   "source": [
    "# one-hot encode categorical predictors\n",
    "maybe_cat = ['MONTH', 'DAY', 'DAY_OF_WEEK', 'SCHED_DEP', 'SCHED_ARR']\n",
    "categorical = ['AIRLINE', 'ORIGIN_AIRPORT', 'DESTINATION_AIRPORT']\n",
    "df_dum = pd.get_dummies(df_pred, columns=categorical+maybe_cat, drop_first=True)\n",
    "df_dum.head()"
   ]
  },
  {
   "cell_type": "code",
   "execution_count": 29,
   "metadata": {},
   "outputs": [],
   "source": [
    "# split data into train and test\n",
    "np.random.seed(9001)\n",
    "msk = np.random.rand(len(df)) < 2/3\n",
    "data_sub1 = df_dum[msk]\n",
    "data_sub2 = df_dum[~msk]\n",
    "msk2 = np.random.rand(len(data_sub1)) < 0.5\n",
    "data_train = data_sub1[msk2]\n",
    "data_test = data_sub1[~msk2]"
   ]
  },
  {
   "cell_type": "code",
   "execution_count": 30,
   "metadata": {},
   "outputs": [],
   "source": [
    "# extract matrices from dataframe\n",
    "dtrain_X = data_train.drop('DELAY_OR_NOT', axis=1)\n",
    "dtest_X = data_test.drop('DELAY_OR_NOT', axis=1)\n",
    "\n",
    "Xtrain = dtrain_X.values\n",
    "Xtest = dtest_X.values\n",
    "ytrain = data_train['DELAY_OR_NOT'].values\n",
    "ytest = data_test['DELAY_OR_NOT'].values"
   ]
  },
  {
   "cell_type": "code",
   "execution_count": 31,
   "metadata": {},
   "outputs": [
    {
     "data": {
      "text/plain": [
       "LogisticRegressionCV(Cs=10, class_weight=None, cv=None, dual=False,\n",
       "           fit_intercept=True, intercept_scaling=1.0, max_iter=100,\n",
       "           multi_class='ovr', n_jobs=1, penalty='l1', random_state=9001,\n",
       "           refit=True, scoring='roc_auc', solver='liblinear', tol=0.0001,\n",
       "           verbose=0)"
      ]
     },
     "execution_count": 31,
     "metadata": {},
     "output_type": "execute_result"
    }
   ],
   "source": [
    "# ovr logistic regression with l1 penalty and cross-validation\n",
    "classif = {}\n",
    "classif['logit_ovr'] = LogisticRegressionCV(penalty='l1', random_state=9001, multi_class='ovr', solver='liblinear', scoring='roc_auc')\n",
    "classif['logit_ovr'].fit(Xtrain, ytrain)"
   ]
  },
  {
   "cell_type": "code",
   "execution_count": 32,
   "metadata": {},
   "outputs": [
    {
     "name": "stdout",
     "output_type": "stream",
     "text": [
      "Confusion matrix: \n",
      " [[238207   2603]\n",
      " [ 20547   6813]]\n",
      "Train AUC score:  0.619101903062\n"
     ]
    },
    {
     "data": {
      "text/html": [
       "<div>\n",
       "<style>\n",
       "    .dataframe thead tr:only-child th {\n",
       "        text-align: right;\n",
       "    }\n",
       "\n",
       "    .dataframe thead th {\n",
       "        text-align: left;\n",
       "    }\n",
       "\n",
       "    .dataframe tbody tr th {\n",
       "        vertical-align: top;\n",
       "    }\n",
       "</style>\n",
       "<table border=\"1\" class=\"dataframe\">\n",
       "  <thead>\n",
       "    <tr style=\"text-align: right;\">\n",
       "      <th></th>\n",
       "      <th>feature</th>\n",
       "      <th>l1</th>\n",
       "    </tr>\n",
       "  </thead>\n",
       "  <tbody>\n",
       "  </tbody>\n",
       "</table>\n",
       "</div>"
      ],
      "text/plain": [
       "Empty DataFrame\n",
       "Columns: [feature, l1]\n",
       "Index: []"
      ]
     },
     "execution_count": 32,
     "metadata": {},
     "output_type": "execute_result"
    }
   ],
   "source": [
    "classif['logit_ovr_train'] = classif['logit_ovr'].predict(Xtrain)\n",
    "print(\"Confusion matrix: \\n\", confusion_matrix(ytrain, classif['logit_ovr_train']))\n",
    "print(\"Train AUC score: \", metrics.roc_auc_score(ytrain, classif['logit_ovr_train']))\n",
    "ovr_coeffs = pd.DataFrame(dict(feature=list(dtrain_X.columns), l1=classif['logit_ovr'].coef_.flatten()))\n",
    "ovr_coeffs_drop = ovr_coeffs.drop(ovr_coeffs[ovr_coeffs.l1 != 0].index)\n",
    "ovr_coeffs_drop"
   ]
  },
  {
   "cell_type": "markdown",
   "metadata": {},
   "source": [
    "Question 5 (5 pts):\n",
    "\n",
    "Given your model, comment on the importance of factors as related to whether a flight is delayed.\n",
    "\n",
    "Above is an attempted list of predictors with a coefficient of 0 after L1 penalty regularization. There don't appear to be any predictors with a coefficient of 0, indicating that my model is influenced by every factor I used:\n",
    "* Month\n",
    "* Day of month\n",
    "* Day of week\n",
    "* Airline\n",
    "* Origin airport\n",
    "* Destination airport\n",
    "* Hour of scheduled departure time\n",
    "* Hour of scheduled arrival time\n",
    "* Distance\n",
    "* Scheduled length of flight"
   ]
  },
  {
   "cell_type": "code",
   "execution_count": 33,
   "metadata": {},
   "outputs": [
    {
     "name": "stdout",
     "output_type": "stream",
     "text": [
      "Confusion matrix: \n",
      " [[238336   2739]\n",
      " [ 20529   6837]]\n",
      "Test AUC score:  0.61923697646\n"
     ]
    }
   ],
   "source": [
    "# Question 6: evaluate your model on your test set\n",
    "classif['logit_ovr_test'] = classif['logit_ovr'].predict(Xtest)\n",
    "print(\"Confusion matrix: \\n\", confusion_matrix(ytest, classif['logit_ovr_test']))\n",
    "print(\"Test AUC score: \", metrics.roc_auc_score(ytest, classif['logit_ovr_test']))"
   ]
  },
  {
   "cell_type": "code",
   "execution_count": 34,
   "metadata": {},
   "outputs": [],
   "source": [
    "# extract data into matrices\n",
    "dsub2_X = data_sub2.drop('DELAY_OR_NOT', axis=1)\n",
    "Xsub2 = dsub2_X.values\n",
    "ysub2 = data_sub2['DELAY_OR_NOT'].values"
   ]
  },
  {
   "cell_type": "code",
   "execution_count": 35,
   "metadata": {
    "collapsed": true
   },
   "outputs": [],
   "source": [
    "# make classifications\n",
    "classif['logit_ovr_sub2'] = classif['logit_ovr'].predict(Xsub2)\n",
    "dsub2_pred = dsub2_X.copy()\n",
    "dsub2_pred['PRED_DELAY'] = classif['logit_ovr_sub2']"
   ]
  },
  {
   "cell_type": "code",
   "execution_count": 37,
   "metadata": {},
   "outputs": [
    {
     "data": {
      "text/plain": [
       "<matplotlib.text.Text at 0x2be9361b630>"
      ]
     },
     "execution_count": 37,
     "metadata": {},
     "output_type": "execute_result"
    },
    {
     "data": {
      "image/png": "[encoded data removed]",
      "text/plain": [
       "<matplotlib.figure.Figure at 0x2be915ba390>"
      ]
     },
     "metadata": {},
     "output_type": "display_data"
    }
   ],
   "source": [
    "airline_cols = [col for col in dsub2_pred if col.startswith('AIRLINE')]\n",
    "airline_props = []\n",
    "for col in airline_cols:\n",
    "    airline_props.append(dsub2_pred[dsub2_pred[col]==1]['PRED_DELAY'].sum()/dsub2_pred[dsub2_pred[col]==1]['PRED_DELAY'].count())\n",
    "\n",
    "nums = np.arange(len(airline_cols))\n",
    "plt.barh(nums, airline_props)\n",
    "ticks = plt.yticks(nums,airline_cols)\n",
    "plt.title(\"Predicted proportions of delayed flights\")"
   ]
  },
  {
   "cell_type": "code",
   "execution_count": 38,
   "metadata": {},
   "outputs": [
    {
     "data": {
      "text/html": [
       "<div>\n",
       "<style>\n",
       "    .dataframe thead tr:only-child th {\n",
       "        text-align: right;\n",
       "    }\n",
       "\n",
       "    .dataframe thead th {\n",
       "        text-align: left;\n",
       "    }\n",
       "\n",
       "    .dataframe tbody tr th {\n",
       "        vertical-align: top;\n",
       "    }\n",
       "</style>\n",
       "<table border=\"1\" class=\"dataframe\">\n",
       "  <thead>\n",
       "    <tr style=\"text-align: right;\">\n",
       "      <th></th>\n",
       "      <th>DATE</th>\n",
       "      <th>MONTH</th>\n",
       "      <th>DAY</th>\n",
       "      <th>DAY_OF_WEEK</th>\n",
       "      <th>AIRLINE</th>\n",
       "      <th>FLIGHT_NUMBER</th>\n",
       "      <th>TAIL_NUMBER</th>\n",
       "      <th>ORIGIN_AIRPORT</th>\n",
       "      <th>DESTINATION_AIRPORT</th>\n",
       "      <th>SCHED_DEP</th>\n",
       "      <th>...</th>\n",
       "      <th>DEPARTURE_DELAY</th>\n",
       "      <th>ARRIVAL_DELAY</th>\n",
       "      <th>DISTANCE</th>\n",
       "      <th>SCHEDULED_TIME</th>\n",
       "      <th>ELAPSED_TIME</th>\n",
       "      <th>AIR_SYSTEM_DELAY</th>\n",
       "      <th>SECURITY_DELAY</th>\n",
       "      <th>AIRLINE_DELAY</th>\n",
       "      <th>LATE_AIRCRAFT_DELAY</th>\n",
       "      <th>WEATHER_DELAY</th>\n",
       "    </tr>\n",
       "  </thead>\n",
       "  <tbody>\n",
       "    <tr>\n",
       "      <th>0</th>\n",
       "      <td>2015-01-04</td>\n",
       "      <td>1</td>\n",
       "      <td>4</td>\n",
       "      <td>7</td>\n",
       "      <td>WN</td>\n",
       "      <td>958</td>\n",
       "      <td>N211WN</td>\n",
       "      <td>PHL</td>\n",
       "      <td>ATL</td>\n",
       "      <td>18:35:00</td>\n",
       "      <td>...</td>\n",
       "      <td>121.0</td>\n",
       "      <td>132.0</td>\n",
       "      <td>666</td>\n",
       "      <td>135.0</td>\n",
       "      <td>146.0</td>\n",
       "      <td>11.0</td>\n",
       "      <td>0.0</td>\n",
       "      <td>20.0</td>\n",
       "      <td>101.0</td>\n",
       "      <td>0.0</td>\n",
       "    </tr>\n",
       "    <tr>\n",
       "      <th>1</th>\n",
       "      <td>2015-07-22</td>\n",
       "      <td>7</td>\n",
       "      <td>22</td>\n",
       "      <td>3</td>\n",
       "      <td>EV</td>\n",
       "      <td>2682</td>\n",
       "      <td>N678AE</td>\n",
       "      <td>BRO</td>\n",
       "      <td>DFW</td>\n",
       "      <td>17:33:00</td>\n",
       "      <td>...</td>\n",
       "      <td>112.0</td>\n",
       "      <td>98.0</td>\n",
       "      <td>482</td>\n",
       "      <td>107.0</td>\n",
       "      <td>93.0</td>\n",
       "      <td>0.0</td>\n",
       "      <td>0.0</td>\n",
       "      <td>0.0</td>\n",
       "      <td>98.0</td>\n",
       "      <td>0.0</td>\n",
       "    </tr>\n",
       "    <tr>\n",
       "      <th>2</th>\n",
       "      <td>2015-03-23</td>\n",
       "      <td>3</td>\n",
       "      <td>23</td>\n",
       "      <td>1</td>\n",
       "      <td>OO</td>\n",
       "      <td>4629</td>\n",
       "      <td>N554CA</td>\n",
       "      <td>LAS</td>\n",
       "      <td>SEA</td>\n",
       "      <td>18:15:00</td>\n",
       "      <td>...</td>\n",
       "      <td>134.0</td>\n",
       "      <td>128.0</td>\n",
       "      <td>867</td>\n",
       "      <td>167.0</td>\n",
       "      <td>161.0</td>\n",
       "      <td>0.0</td>\n",
       "      <td>0.0</td>\n",
       "      <td>0.0</td>\n",
       "      <td>128.0</td>\n",
       "      <td>0.0</td>\n",
       "    </tr>\n",
       "    <tr>\n",
       "      <th>3</th>\n",
       "      <td>2015-03-12</td>\n",
       "      <td>3</td>\n",
       "      <td>12</td>\n",
       "      <td>4</td>\n",
       "      <td>US</td>\n",
       "      <td>2146</td>\n",
       "      <td>N951UW</td>\n",
       "      <td>LGA</td>\n",
       "      <td>BOS</td>\n",
       "      <td>14:00:00</td>\n",
       "      <td>...</td>\n",
       "      <td>-5.0</td>\n",
       "      <td>38.0</td>\n",
       "      <td>184</td>\n",
       "      <td>63.0</td>\n",
       "      <td>106.0</td>\n",
       "      <td>38.0</td>\n",
       "      <td>0.0</td>\n",
       "      <td>0.0</td>\n",
       "      <td>0.0</td>\n",
       "      <td>0.0</td>\n",
       "    </tr>\n",
       "    <tr>\n",
       "      <th>4</th>\n",
       "      <td>2015-04-27</td>\n",
       "      <td>4</td>\n",
       "      <td>27</td>\n",
       "      <td>1</td>\n",
       "      <td>EV</td>\n",
       "      <td>2557</td>\n",
       "      <td>N673AE</td>\n",
       "      <td>SHV</td>\n",
       "      <td>DFW</td>\n",
       "      <td>16:41:00</td>\n",
       "      <td>...</td>\n",
       "      <td>140.0</td>\n",
       "      <td>148.0</td>\n",
       "      <td>190</td>\n",
       "      <td>64.0</td>\n",
       "      <td>72.0</td>\n",
       "      <td>8.0</td>\n",
       "      <td>0.0</td>\n",
       "      <td>95.0</td>\n",
       "      <td>45.0</td>\n",
       "      <td>0.0</td>\n",
       "    </tr>\n",
       "  </tbody>\n",
       "</table>\n",
       "<p>5 rows × 21 columns</p>\n",
       "</div>"
      ],
      "text/plain": [
       "         DATE  MONTH  DAY  DAY_OF_WEEK AIRLINE  FLIGHT_NUMBER TAIL_NUMBER  \\\n",
       "0  2015-01-04      1    4            7      WN            958      N211WN   \n",
       "1  2015-07-22      7   22            3      EV           2682      N678AE   \n",
       "2  2015-03-23      3   23            1      OO           4629      N554CA   \n",
       "3  2015-03-12      3   12            4      US           2146      N951UW   \n",
       "4  2015-04-27      4   27            1      EV           2557      N673AE   \n",
       "\n",
       "  ORIGIN_AIRPORT DESTINATION_AIRPORT SCHED_DEP      ...       DEPARTURE_DELAY  \\\n",
       "0            PHL                 ATL  18:35:00      ...                 121.0   \n",
       "1            BRO                 DFW  17:33:00      ...                 112.0   \n",
       "2            LAS                 SEA  18:15:00      ...                 134.0   \n",
       "3            LGA                 BOS  14:00:00      ...                  -5.0   \n",
       "4            SHV                 DFW  16:41:00      ...                 140.0   \n",
       "\n",
       "   ARRIVAL_DELAY  DISTANCE  SCHEDULED_TIME  ELAPSED_TIME  AIR_SYSTEM_DELAY  \\\n",
       "0          132.0       666           135.0         146.0              11.0   \n",
       "1           98.0       482           107.0          93.0               0.0   \n",
       "2          128.0       867           167.0         161.0               0.0   \n",
       "3           38.0       184            63.0         106.0              38.0   \n",
       "4          148.0       190            64.0          72.0               8.0   \n",
       "\n",
       "   SECURITY_DELAY  AIRLINE_DELAY  LATE_AIRCRAFT_DELAY  WEATHER_DELAY  \n",
       "0             0.0           20.0                101.0            0.0  \n",
       "1             0.0            0.0                 98.0            0.0  \n",
       "2             0.0            0.0                128.0            0.0  \n",
       "3             0.0            0.0                  0.0            0.0  \n",
       "4             0.0           95.0                 45.0            0.0  \n",
       "\n",
       "[5 rows x 21 columns]"
      ]
     },
     "execution_count": 38,
     "metadata": {},
     "output_type": "execute_result"
    }
   ],
   "source": [
    "# Question 7: build regression model to predict length of delay (log scale)\n",
    "dfd = dataframe.copy()\n",
    "dfd = dfd[dfd['ARRIVAL_DELAY']>=15]\n",
    "dfd = dfd.reset_index(drop=True)\n",
    "dfd.head()"
   ]
  },
  {
   "cell_type": "code",
   "execution_count": 39,
   "metadata": {},
   "outputs": [
    {
     "data": {
      "text/html": [
       "<div>\n",
       "<style>\n",
       "    .dataframe thead tr:only-child th {\n",
       "        text-align: right;\n",
       "    }\n",
       "\n",
       "    .dataframe thead th {\n",
       "        text-align: left;\n",
       "    }\n",
       "\n",
       "    .dataframe tbody tr th {\n",
       "        vertical-align: top;\n",
       "    }\n",
       "</style>\n",
       "<table border=\"1\" class=\"dataframe\">\n",
       "  <thead>\n",
       "    <tr style=\"text-align: right;\">\n",
       "      <th></th>\n",
       "      <th>MONTH</th>\n",
       "      <th>DAY</th>\n",
       "      <th>DAY_OF_WEEK</th>\n",
       "      <th>AIRLINE</th>\n",
       "      <th>ORIGIN_AIRPORT</th>\n",
       "      <th>DESTINATION_AIRPORT</th>\n",
       "      <th>SCHED_DEP</th>\n",
       "      <th>SCHED_ARR</th>\n",
       "      <th>ARRIVAL_DELAY</th>\n",
       "      <th>DISTANCE</th>\n",
       "      <th>SCHEDULED_TIME</th>\n",
       "    </tr>\n",
       "  </thead>\n",
       "  <tbody>\n",
       "    <tr>\n",
       "      <th>0</th>\n",
       "      <td>1</td>\n",
       "      <td>4</td>\n",
       "      <td>7</td>\n",
       "      <td>WN</td>\n",
       "      <td>PHL</td>\n",
       "      <td>ATL</td>\n",
       "      <td>18:35:00</td>\n",
       "      <td>20:50:00</td>\n",
       "      <td>132.0</td>\n",
       "      <td>666</td>\n",
       "      <td>135.0</td>\n",
       "    </tr>\n",
       "    <tr>\n",
       "      <th>1</th>\n",
       "      <td>7</td>\n",
       "      <td>22</td>\n",
       "      <td>3</td>\n",
       "      <td>EV</td>\n",
       "      <td>BRO</td>\n",
       "      <td>DFW</td>\n",
       "      <td>17:33:00</td>\n",
       "      <td>19:20:00</td>\n",
       "      <td>98.0</td>\n",
       "      <td>482</td>\n",
       "      <td>107.0</td>\n",
       "    </tr>\n",
       "    <tr>\n",
       "      <th>2</th>\n",
       "      <td>3</td>\n",
       "      <td>23</td>\n",
       "      <td>1</td>\n",
       "      <td>OO</td>\n",
       "      <td>LAS</td>\n",
       "      <td>SEA</td>\n",
       "      <td>18:15:00</td>\n",
       "      <td>21:02:00</td>\n",
       "      <td>128.0</td>\n",
       "      <td>867</td>\n",
       "      <td>167.0</td>\n",
       "    </tr>\n",
       "    <tr>\n",
       "      <th>3</th>\n",
       "      <td>3</td>\n",
       "      <td>12</td>\n",
       "      <td>4</td>\n",
       "      <td>US</td>\n",
       "      <td>LGA</td>\n",
       "      <td>BOS</td>\n",
       "      <td>14:00:00</td>\n",
       "      <td>15:03:00</td>\n",
       "      <td>38.0</td>\n",
       "      <td>184</td>\n",
       "      <td>63.0</td>\n",
       "    </tr>\n",
       "    <tr>\n",
       "      <th>4</th>\n",
       "      <td>4</td>\n",
       "      <td>27</td>\n",
       "      <td>1</td>\n",
       "      <td>EV</td>\n",
       "      <td>SHV</td>\n",
       "      <td>DFW</td>\n",
       "      <td>16:41:00</td>\n",
       "      <td>17:45:00</td>\n",
       "      <td>148.0</td>\n",
       "      <td>190</td>\n",
       "      <td>64.0</td>\n",
       "    </tr>\n",
       "  </tbody>\n",
       "</table>\n",
       "</div>"
      ],
      "text/plain": [
       "   MONTH  DAY  DAY_OF_WEEK AIRLINE ORIGIN_AIRPORT DESTINATION_AIRPORT  \\\n",
       "0      1    4            7      WN            PHL                 ATL   \n",
       "1      7   22            3      EV            BRO                 DFW   \n",
       "2      3   23            1      OO            LAS                 SEA   \n",
       "3      3   12            4      US            LGA                 BOS   \n",
       "4      4   27            1      EV            SHV                 DFW   \n",
       "\n",
       "  SCHED_DEP SCHED_ARR  ARRIVAL_DELAY  DISTANCE  SCHEDULED_TIME  \n",
       "0  18:35:00  20:50:00          132.0       666           135.0  \n",
       "1  17:33:00  19:20:00           98.0       482           107.0  \n",
       "2  18:15:00  21:02:00          128.0       867           167.0  \n",
       "3  14:00:00  15:03:00           38.0       184            63.0  \n",
       "4  16:41:00  17:45:00          148.0       190            64.0  "
      ]
     },
     "execution_count": 39,
     "metadata": {},
     "output_type": "execute_result"
    }
   ],
   "source": [
    "# drop non-predictors\n",
    "dfd_pred = dfd.copy()\n",
    "non_preds = ['DEPARTURE_DELAY','DATE', 'FLIGHT_NUMBER', 'TAIL_NUMBER', 'ELAPSED_TIME', 'AIR_SYSTEM_DELAY', 'SECURITY_DELAY', 'AIRLINE_DELAY', 'LATE_AIRCRAFT_DELAY', 'WEATHER_DELAY']\n",
    "for non_pred in non_preds:\n",
    "    dfd_pred = dfd_pred.drop(non_pred, axis=1)\n",
    "\n",
    "dfd_pred.head()"
   ]
  },
  {
   "cell_type": "code",
   "execution_count": null,
   "metadata": {},
   "outputs": [],
   "source": [
    "# subset non-top airports into other\n",
    "dfd_pred['ORIGIN_AIRPORT'] = dfd_pred['ORIGIN_AIRPORT'].apply(other_airport)\n",
    "dfd_pred['DESTINATION_AIRPORT'] = dfd_pred['DESTINATION_AIRPORT'].apply(other_airport)\n",
    "dfd_pred.head()"
   ]
  },
  {
   "cell_type": "code",
   "execution_count": null,
   "metadata": {},
   "outputs": [],
   "source": [
    "# convert time to hours\n",
    "dfd_pred['SCHED_DEP'] = dfd_pred['SCHED_DEP'].apply(time_to_hr)\n",
    "dfd_pred['SCHED_ARR'] = dfd_pred['SCHED_ARR'].apply(time_to_hr)\n",
    "\n",
    "# convert arrival_delay to logarithmic scale\n",
    "dfd_pred['ARRIVAL_DELAY'] = dfd_pred['ARRIVAL_DELAY'].apply(math.log)\n",
    "dfd_pred.head()"
   ]
  },
  {
   "cell_type": "code",
   "execution_count": null,
   "metadata": {},
   "outputs": [],
   "source": [
    "# one-hot encode categorical predictors\n",
    "cats = ['MONTH', 'DAY', 'DAY_OF_WEEK', 'AIRLINE', 'ORIGIN_AIRPORT', 'DESTINATION_AIRPORT', 'SCHED_DEP', 'SCHED_ARR']\n",
    "dfd_dum = pd.get_dummies(dfd_pred, columns=cats, drop_first=True)\n",
    "dfd_dum.head()"
   ]
  },
  {
   "cell_type": "code",
   "execution_count": null,
   "metadata": {
    "collapsed": true
   },
   "outputs": [],
   "source": [
    "# split data into train and test\n",
    "np.random.seed(9001)\n",
    "msk = np.random.rand(len(df_delay_dum)) < 0.5\n",
    "dfd_train = dfd_dum[msk]\n",
    "dfd_test = dfd_dum[~msk]"
   ]
  },
  {
   "cell_type": "code",
   "execution_count": null,
   "metadata": {},
   "outputs": [],
   "source": [
    "dfd_train.head()"
   ]
  },
  {
   "cell_type": "code",
   "execution_count": null,
   "metadata": {
    "collapsed": true
   },
   "outputs": [],
   "source": [
    "# extract matrices from dataframe\n",
    "dfdtrain_X = dfd_train.drop('ARRIVAL_DELAY', axis=1)\n",
    "dfdtest_X = dfd_test.drop('ARRIVAL_DELAY', axis=1)\n",
    "\n",
    "dfd = {}\n",
    "dfd['Xtrain'] = dfdtrain_X.values\n",
    "dfd['Xtest'] = dfdtest_X.values\n",
    "dfd['ytrain'] = dfd_train['ARRIVAL_DELAY'].values\n",
    "dfd['ytest'] = dfd_test['ARRIVAL_DELAY'].values"
   ]
  },
  {
   "cell_type": "code",
   "execution_count": null,
   "metadata": {},
   "outputs": [],
   "source": [
    "ols = LinearRegression(fit_intercept=True)\n",
    "ols.fit(dfd['Xtrain'], dfd['ytrain'])\n",
    "\n",
    "print('OLS Train Score', ols.score(dfd['Xtrain'], dfd['ytrain']))\n",
    "print('OLS Test Score', ols.score(dfd['Xtest'], dfd['ytest']))"
   ]
  },
  {
   "cell_type": "markdown",
   "metadata": {},
   "source": [
    "Question 8 (20 pts):\n",
    "\n",
    "Write a report (in the last markdown cell in your notebook with your findings (without code)). Describe the main design decisions you have made with justifications. Clearly explain your methodology and results. This should not be more than 300 words. You may use up to 5 diagrams."
   ]
  },
  {
   "cell_type": "markdown",
   "metadata": {},
   "source": [
    "I chose not to use data about flight number, tail number, origin/destination airports aside from the top 50 airports with the most flights originating from there, and the minute of scheduled arrival and departure time because I thought they wouldn't be useful enough to overcome the computational complexity they would add."
   ]
  },
  {
   "cell_type": "markdown",
   "metadata": {},
   "source": [
    "LASSO regression produces sparse solutions, meaning that some of the model parameters are estimated to be zero, so it can be used as a method of variable selection. I chose LASSO regression because it avoids the statistic problems that can arise in stepwise selection."
   ]
  },
  {
   "cell_type": "markdown",
   "metadata": {
    "collapsed": true
   },
   "source": [
    "We also won't use DATE because the same information is encoded in the MONTH and DAY predictors. And finally, we won't use FLIGHT_NUMBER or TAIL_NUMBER because they are categorical variables with too many categories. It's not worth it to add 10,000 binary predictors just in case one particular flight pattern or aircraft is extremely influential on whether or not a flight is delayed.\n",
    "\n",
    "There are too many unique (628) airports, so let's keep the 50 airports with the highest numbers of flights originating from there, and convert all of the other airports to \"Other\".\n",
    "\n",
    "The datetime.time type columns aren't truly continuous variables because 23:59 is just as close to 0:00 as it is to 23:58, so we will convert them into categorical predictors. We likely won't gain much from adding 24\\*60 predictors, so lets one-hot encode them by hour instead."
   ]
  }
 ],
 "metadata": {
  "kernelspec": {
   "display_name": "Python 3",
   "language": "python",
   "name": "python3"
  }
 },
 "nbformat": 4,
 "nbformat_minor": 2
}
